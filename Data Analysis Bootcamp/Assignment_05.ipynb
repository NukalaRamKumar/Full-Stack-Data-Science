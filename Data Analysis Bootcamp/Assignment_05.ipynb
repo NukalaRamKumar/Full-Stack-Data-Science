{
 "cells": [
  {
   "cell_type": "markdown",
   "metadata": {},
   "source": [
    "## Advance Excel Assignment 5\n",
    "---"
   ]
  },
  {
   "cell_type": "markdown",
   "metadata": {},
   "source": [
    "#### 1. How many types of conditions are available in conditional formatting on Excel?\n",
    "Ther are __three__ basic conditions are available in conditional formatting.\n",
    "1. Greater than\n",
    "2. Less than\n",
    "3. Equal\n",
    "There are __five__ different conditions are available in custom conditional formatting.\n",
    "1. Greater than\n",
    "2. Less than\n",
    "3. Equal\n",
    "4. Greater than or Equal\n",
    "5. Less than or Equal"
   ]
  },
  {
   "cell_type": "markdown",
   "metadata": {},
   "source": [
    "#### 2. How to insert border in Excel with Format Cells dialog?\n",
    "1. Select the table or cells for border.\n",
    "2. Click on Home. Then Format.\n",
    "3. Click on Format cells and then Border.\n",
    "4. Select border options and colour for border of the table/ cells.\n",
    "5. Click ok."
   ]
  },
  {
   "cell_type": "markdown",
   "metadata": {},
   "source": [
    "#### 3. How to Format Numbers as Currency in Excel?\n",
    "1. Select the table or cells for Formatting.\n",
    "2. Click on Home. Then Format.\n",
    "3. Click on Format cells and then Number.\n",
    "4. Select Currency and then enter no. of Decimal places and Currency symbol.\n",
    "5. Click ok."
   ]
  },
  {
   "cell_type": "markdown",
   "metadata": {},
   "source": [
    "#### 4. What are the steps to format numbers in Excel with the Percent style?\n",
    "1. Select the table or cells for Formatting.\n",
    "2. Click on Home. Then Format.\n",
    "3. Click on Format cells and then Number.\n",
    "4. Select Percentage and then enter no. of Decimal places.\n",
    "5. Click ok."
   ]
  },
  {
   "cell_type": "markdown",
   "metadata": {},
   "source": [
    "#### 5. What is a shortcut to merge two or more cells in excel?\n",
    "1. Select the cells which you want to merge.\n",
    "2. __Alt + H + M + C__ for Merge and Center or __Alt + H + M +M__ for Merge Cells."
   ]
  },
  {
   "cell_type": "markdown",
   "metadata": {},
   "source": [
    "#### 6. How do you use text commands in Excel?\n",
    "1. Select the select to show the output of function.\n",
    "2. Click on Functions Ribbon.\n",
    "3. Click on Text Functions.\n",
    "4. Select the required function and implement accordingly.\n",
    "__Example:__<br>\n",
    "__LEN(__ _text_ __/__ _cell_ __)__<br>\n",
    "__LEFT(__ _text_ __/__ _cell_ __,__ _end index required[default=1]_ __)__"
   ]
  }
 ],
 "metadata": {
  "interpreter": {
   "hash": "fa18ddf63757025e07142b155e3a09ea3e18333fb57aa92d1d991cecda9d12ca"
  },
  "kernelspec": {
   "display_name": "Python 3.10.4 64-bit",
   "language": "python",
   "name": "python3"
  },
  "language_info": {
   "codemirror_mode": {
    "name": "ipython",
    "version": 3
   },
   "file_extension": ".py",
   "mimetype": "text/x-python",
   "name": "python",
   "nbconvert_exporter": "python",
   "pygments_lexer": "ipython3",
   "version": "3.10.4"
  },
  "orig_nbformat": 4
 },
 "nbformat": 4,
 "nbformat_minor": 2
}
