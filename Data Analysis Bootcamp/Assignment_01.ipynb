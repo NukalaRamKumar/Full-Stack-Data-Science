{
 "cells": [
  {
   "cell_type": "markdown",
   "metadata": {},
   "source": [
    "## Advance Excel Assignment 1"
   ]
  },
  {
   "cell_type": "markdown",
   "metadata": {},
   "source": [
    "#### 1. What do you mean by cells in an excel sheet?\n",
    "Cell is a data elements which is stored at the intersection of a cloumn and row in excel."
   ]
  },
  {
   "cell_type": "markdown",
   "metadata": {},
   "source": [
    "#### 2. How can you restrict someone from copying a cell from your worksheet?\n",
    "We can restrict someone copying a cell from worksheet by turning on the protection for the worksheet.\n",
    "1. Click on Review Tab.\n",
    "2. Click on Protect Sheet.\n",
    "3. By default, Excel selects the Protect Worksheet and Contents of Locked Cells check box.\n",
    "4. By default, additional option like Select Locked Cells and Select Unlocked Cells will be on.\n",
    "5. Set a password."
   ]
  },
  {
   "cell_type": "markdown",
   "metadata": {},
   "source": [
    "#### 3. How to move or copy the worksheet into another workbook?\n",
    "1. Right click on the sheet name that you want to copy, and then click Move or Copy.\n",
    "2. In to book option, choose the target workbook.\n",
    "3. Select create a copy box if a copy is required. If you want to move uncheck the create a copy box.\n",
    "4. Click ok."
   ]
  },
  {
   "cell_type": "markdown",
   "metadata": {},
   "source": [
    "#### 4. Which key is used as a shortcut for opening a new window document?\n",
    "Ctrl+N in windows is used to for creating a new window document.<br>\n",
    "Ctrl+O in windows is used for opening a document from the system."
   ]
  },
  {
   "cell_type": "markdown",
   "metadata": {},
   "source": [
    "#### 5. What are the things that we can notice after opening the Excel interface?\n",
    "The things which we can notice after opening the Excel application are:\n",
    "1. Home\n",
    "2. New\n",
    "3. Open\n",
    "4. Account Details\n",
    "5. Options [Settings]\n",
    "\n",
    "The things which we can notice after opening a Excel are:\n",
    "1. Title Bar.\n",
    "2. Menu Bar.\n",
    "3. Tool Bar.\n",
    "4. Worksheet With Cloums and Rows Headers and Cells.\n",
    "5. Sheet Tabs."
   ]
  },
  {
   "cell_type": "markdown",
   "metadata": {},
   "source": [
    "#### 6. When to use a relative cell reference in excel?\n",
    "Relative references are especially convenient whenever you need to repeat the same calculation across multiple rows or columns."
   ]
  }
 ],
 "metadata": {
  "language_info": {
   "name": "python"
  },
  "orig_nbformat": 4
 },
 "nbformat": 4,
 "nbformat_minor": 2
}
