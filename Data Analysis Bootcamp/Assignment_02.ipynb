{
 "cells": [
  {
   "cell_type": "markdown",
   "metadata": {},
   "source": [
    "## Advance Excel Assignment 2\n",
    "---"
   ]
  },
  {
   "cell_type": "markdown",
   "metadata": {},
   "source": [
    "#### 1. What does the dollar($) sign do?\n",
    "The dollar($) sign makes the fixes the column or row in the formula."
   ]
  },
  {
   "cell_type": "markdown",
   "metadata": {},
   "source": [
    "#### 2. How to Change the Reference from Relative to Absolute (or Mixed)?\n",
    "We change the reference from relative to absolute or Mixed by:\n",
    "1. Press F4 key once: The cell reference changes from A1 to $A$1.(Absolute from relative)\n",
    "2. Press F4 key two times: The cell reference changes from A1 to A$1.(Mixed reference where row is locked)\n",
    "3. Press F4 key three times: The cell reference changes from A1 to $A1.(Mixed reference where column is locked)\n",
    "4. Press F4 key four times: The cell reference becomes A1 again.(Relative again)"
   ]
  },
  {
   "cell_type": "markdown",
   "metadata": {},
   "source": [
    "#### 3. Explain the order of operations in excel?\n",
    "Excel follows standards of Math.<br>\n",
    "Following is the order from highest priority to least.<br>\n",
    "**PEDAMS**: Parentheses, Exponents, Division, Multiplication, Addition, Subtraction."
   ]
  },
  {
   "cell_type": "markdown",
   "metadata": {},
   "source": [
    "#### 4. What, according to you, are the top 5 functions in excel and write a basic syntax for any of two?\n",
    "According to me top 5 functions are __ROUND__, __AVERAGE__, __IF__, __SUBSTITUTE__ and __VLOOKUP__.\n",
    "- ___ROUND:___<br>\n",
    "    __Syntax:__ _ROUND(number, number of digits)_\n",
    "- ___AVERAGE___:<br>\n",
    "    __Syntax:__ _AVERAGE(cells or numbers)_\n",
    "- ___IF___:<br>\n",
    "    __Syntax:__ _IF(condition, value if true, value if false)_"
   ]
  },
  {
   "cell_type": "markdown",
   "metadata": {},
   "source": [
    "#### 5. When would you use the subtotal function?\n",
    "The _SUBTOTAL_ function is used when you display a mathamatical function for all rows in an Excel Table or subtotals of the same function according to the categories. Excel inserts the _SUBTOTAL_ function automatically, and you can use a drop-down menu to switch behavior and show max, min, average, etc."
   ]
  },
  {
   "cell_type": "markdown",
   "metadata": {},
   "source": [
    "#### 6. What is the syntax of the vlookup function? Explain the terms in it?\n",
    "Syntax for the vlookup function is:<br>\n",
    "___VLOOKUP(___ _value_, _table_, _column index_, _range lookup_ ___)___<br>\n",
    "___Value:___ This is the value that you have to look for in the first column of a table.<br>\n",
    "___Table:___ This indicates the table from which the value is retrieved.<br>\n",
    "___Column Index:___ The column in the table from the value is to be retrieved.<br>\n",
    "___Range Lookup:___ _TRUE_ if approximate match or _FALSE_ for exact match. It is optional by default the vlookup is set to _TRUE_.<br>"
   ]
  }
 ],
 "metadata": {
  "language_info": {
   "name": "python"
  },
  "orig_nbformat": 4
 },
 "nbformat": 4,
 "nbformat_minor": 2
}
