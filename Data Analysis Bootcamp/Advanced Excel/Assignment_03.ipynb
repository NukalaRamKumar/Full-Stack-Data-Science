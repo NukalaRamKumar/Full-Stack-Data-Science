{
 "cells": [
  {
   "cell_type": "markdown",
   "metadata": {},
   "source": [
    "## Advance Excel Assignment 3\n",
    "---"
   ]
  },
  {
   "cell_type": "markdown",
   "metadata": {},
   "source": [
    "#### 1. How and when to use the AutoSum command in excel?\n",
    "If you need to sum a column or row of numbers and table is large in size we can use the Autosum command for sum by rows or columns. The Autosum command automatically get numbers from the columns or rows nearby depends on the position of the output cell choosed.\n",
    "1. Click on the cell which you want to show the sum value.\n",
    "2. Click on Autosum which automatically implements the SUM function and table values range for the function.\n",
    "3. Click Enter."
   ]
  },
  {
   "cell_type": "markdown",
   "metadata": {},
   "source": [
    "#### 2. What is the shortcut key to perform AutoSum?\n",
    "__Alt + =__ is the shorcut for AutoSum."
   ]
  },
  {
   "cell_type": "markdown",
   "metadata": {},
   "source": [
    "#### 3. How do you get rid of Formula that omits adjacent cells?\n",
    "1. Click on the Warning icon.\n",
    "2. _Update Formula to Include cells_ if you want to update or _Ignore error_ to get rid of warning.\n",
    "Permanent fix:\n",
    "1. Click on File then Options.\n",
    "2. Then Formulas.\n",
    "3. In Forumalas, under error checking rules uncheck the field _Forumla which omit cells in region_."
   ]
  },
  {
   "cell_type": "markdown",
   "metadata": {},
   "source": [
    "#### 4. How do you select non-adjacent cells in Excel 2016?\n",
    "To Select non-adjacent cells in Excel. Hold Ctrl and tap on the cells which you want to select or drag the mouse with left click if you want to select multiple adjacent cells for non-adjacent selection."
   ]
  },
  {
   "cell_type": "markdown",
   "metadata": {},
   "source": [
    "#### 5. What happens if you choose a column, hold down the Alt key and press the letters ocw in quick succession?\n",
    "The Column Width dialogue box will pop up. We can enter column width."
   ]
  },
  {
   "cell_type": "markdown",
   "metadata": {},
   "source": [
    "#### 6. If you right-click on a row reference number and click on Insert, where will the row be added?\n",
    "If you right-click on a row reference number and click on Insert the new row will be added on the top of the selected row."
   ]
  }
 ],
 "metadata": {
  "language_info": {
   "name": "python"
  },
  "orig_nbformat": 4
 },
 "nbformat": 4,
 "nbformat_minor": 2
}
