{
 "cells": [
  {
   "cell_type": "markdown",
   "metadata": {},
   "source": [
    "## Advance Excel Assignment 4\n",
    "---"
   ]
  },
  {
   "cell_type": "markdown",
   "metadata": {},
   "source": [
    "#### 1. To use the ribbon commands, what menu and grouping of commands will you find the Insert and Delete command?\n",
    "We can find the Insert and Delete command in the Home Ribbon in Cells Grouping."
   ]
  },
  {
   "cell_type": "markdown",
   "metadata": {},
   "source": [
    "#### 2. If you set a row height or column width to 0 (zero), what happens to the row and column?\n",
    "If you set a row height or column width to 0 (zero) the row or column and _data will still be stored in the sheet_. As the row or columns has no size it will get __hide__."
   ]
  },
  {
   "cell_type": "markdown",
   "metadata": {},
   "source": [
    "#### 3. Is there a need to change the height and width in a cell? Why?\n",
    "There is a need to change the height or width of the cell as the data is not represeneted when the data or letters exceed the hight or width of the cell. For presenting our data clearly we need to adjust the height/ width of the cells for complete visibility of data."
   ]
  },
  {
   "cell_type": "markdown",
   "metadata": {},
   "source": [
    "#### 4. What is the keyboard shortcut to unhide rows?\n",
    "The shortcut to unhide rows is to select all cells in sheet using __Ctrl+A__ and the __Ctrl+Shift+(__."
   ]
  },
  {
   "cell_type": "markdown",
   "metadata": {},
   "source": [
    "#### 5. How to hide rows containing blank cells?\n",
    "1. Click on Home. Then Find and Select.\n",
    "2. Click on Go to Special.\n",
    "3. Select the Blanks and Ok.\n",
    "4. All the Blank cells will be select. Click __Ctrl + 9__ to hide the selected rows."
   ]
  },
  {
   "cell_type": "markdown",
   "metadata": {},
   "source": [
    "#### 6. What are the steps to hide the duplicate values using conditional formatting in excel?\n",
    "1. Click Home then Conditional Formatting.\n",
    "2. Then click on the Highlight Cells Rules. Then Duplicate Values.\n",
    "3. Then Select _Duplicate_ in Format cells that contain and _Custom Format_ in values with.\n",
    "4. The a dialog box will pop up which you can choose the colour of the cell. Choose the colour same as your cell colour(default case will be White).\n",
    "5. Click Ok. "
   ]
  }
 ],
 "metadata": {
  "language_info": {
   "name": "python"
  },
  "orig_nbformat": 4
 },
 "nbformat": 4,
 "nbformat_minor": 2
}
