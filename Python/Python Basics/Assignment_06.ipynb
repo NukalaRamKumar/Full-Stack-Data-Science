{
 "cells": [
  {
   "cell_type": "markdown",
   "metadata": {},
   "source": [
    "## Python Assingment 6\n",
    "---"
   ]
  },
  {
   "cell_type": "markdown",
   "metadata": {},
   "source": [
    "#### 1. What are escape characters, and how do you use them?\n",
    "Escape characters represent characters in string values that would otherwise be difficult or impossible to type into code. we can use the backslash character to escape a single character or symbol.<br>\n",
    "**Example:**```\\t, \\n```"
   ]
  },
  {
   "cell_type": "code",
   "execution_count": 17,
   "metadata": {},
   "outputs": [
    {
     "name": "stdout",
     "output_type": "stream",
     "text": [
      "iNeuron\n",
      "Assignment\n"
     ]
    }
   ],
   "source": [
    "print(\"iNeuron\\nAssignment\")"
   ]
  },
  {
   "cell_type": "markdown",
   "metadata": {},
   "source": [
    "#### 2. What do the escape characters n and t stand for ?\n",
    "```\\n``` is a newline, ```\\t``` is a tab."
   ]
  },
  {
   "cell_type": "code",
   "execution_count": 18,
   "metadata": {},
   "outputs": [
    {
     "name": "stdout",
     "output_type": "stream",
     "text": [
      "iNeuron\tAssignment\n",
      "iNeuron\n",
      "Assignment\n"
     ]
    }
   ],
   "source": [
    "print(\"iNeuron\\tAssignment\")\n",
    "print(\"iNeuron\\nAssignment\")"
   ]
  },
  {
   "cell_type": "markdown",
   "metadata": {},
   "source": [
    "#### 3. What is the way to include backslash character in a string?\n",
    "The ```\\\\``` escape character will represent the backslash character in a string."
   ]
  },
  {
   "cell_type": "markdown",
   "metadata": {},
   "source": [
    "#### 4. The string \"Howl's Moving Castle\" is a correct value. Why isn't the single quote character in the word Howl's not escaped a problem ?\n",
    "The string \"Howl's Moving Castle\" escaped the problem because it is wrapped inside double quotes. If its wrapped inside single quotes then we have to use escape character \\' to show single quote in the final output."
   ]
  },
  {
   "cell_type": "markdown",
   "metadata": {},
   "source": [
    "#### 5.How do you write a string of newlines if you don't want to use the n character?\n",
    "Multiline string allow you to use newlines in string without the ```\\n``` escape character."
   ]
  },
  {
   "cell_type": "code",
   "execution_count": 19,
   "metadata": {},
   "outputs": [
    {
     "name": "stdout",
     "output_type": "stream",
     "text": [
      "iNeuron\n",
      "Assignment\n"
     ]
    }
   ],
   "source": [
    "text = '''iNeuron\n",
    "Assignment'''\n",
    "print(text)"
   ]
  },
  {
   "cell_type": "markdown",
   "metadata": {},
   "source": [
    "#### 6. What are the values of the given expressions ?\n",
    "> 'Hello, world!'[1]<br>\n",
    "'Hello, world!'[0:5]<br>\n",
    "'Hello, world!'[:5]<br>\n",
    "'Hello, world!'[3:]"
   ]
  },
  {
   "cell_type": "markdown",
   "metadata": {},
   "source": [
    "The values for the given expressions are:<br>\n",
    "'Hello, world!'[1] -> 'e'<br>\n",
    "'Hello, world!'[0:5] -> 'Hello'<br>\n",
    "'Hello, world!'[:5] -> 'Hello'<br>\n",
    "'Hello, world!'[3:] -> 'lo, world!'<br>"
   ]
  },
  {
   "cell_type": "code",
   "execution_count": 20,
   "metadata": {},
   "outputs": [
    {
     "name": "stdout",
     "output_type": "stream",
     "text": [
      "e\n",
      "Hello\n",
      "Hello\n",
      "lo, world!\n"
     ]
    }
   ],
   "source": [
    "print('Hello, world!'[1])\n",
    "print('Hello, world!'[0:5])\n",
    "print('Hello, world!'[:5])\n",
    "print('Hello, world!'[3:])"
   ]
  },
  {
   "cell_type": "markdown",
   "metadata": {},
   "source": [
    "#### 7. What are the values of the following expressions ?\n",
    ">'Hello'.upper()<br>\n",
    "'Hello'.upper().isupper()<br>\n",
    "'Hello'.upper().lower()<br>"
   ]
  },
  {
   "cell_type": "markdown",
   "metadata": {},
   "source": [
    "The values for the given expressions are:<br>\n",
    "'Hello'.upper() -> 'HELLO'<br>\n",
    "'Hello'.upper().isupper() -> True<br>\n",
    "'Hello'.upper().lower() -> 'hello'<br>"
   ]
  },
  {
   "cell_type": "code",
   "execution_count": 21,
   "metadata": {},
   "outputs": [
    {
     "name": "stdout",
     "output_type": "stream",
     "text": [
      "HELLO\n",
      "True\n",
      "hello\n"
     ]
    }
   ],
   "source": [
    "print('Hello'.upper())\n",
    "print('Hello'.upper().isupper())\n",
    "print('Hello'.upper().lower())"
   ]
  },
  {
   "cell_type": "markdown",
   "metadata": {},
   "source": [
    "#### 8. What are the values of the following expressions ?\n",
    ">'Remember, remember, the fifith of July.'.split()<br>\n",
    "-'.join('There can only one'.split())"
   ]
  },
  {
   "cell_type": "markdown",
   "metadata": {},
   "source": [
    "The values for the given expressions are:<br>\n",
    "'Remember, remember, the fifith of July.'.split() -> ['Remember,', 'remember,', 'the', 'fifith', 'of', 'July.']<br>\n",
    "'-'.join('There can only one'.split()) -> 'There-can-only-one'"
   ]
  },
  {
   "cell_type": "code",
   "execution_count": 22,
   "metadata": {},
   "outputs": [
    {
     "name": "stdout",
     "output_type": "stream",
     "text": [
      "['Remember,', 'remember,', 'the', 'fifith', 'of', 'July.']\n",
      "There-can-only-one\n"
     ]
    }
   ],
   "source": [
    "print('Remember, remember, the fifith of July.'.split())\n",
    "print('-'.join('There can only one'.split()))"
   ]
  },
  {
   "cell_type": "markdown",
   "metadata": {},
   "source": [
    "#### 9. What are the methods for right-justifying, left-justifying and centering a string ?\n",
    "The rjust(),ljust(),center() string methods are used for justification."
   ]
  },
  {
   "cell_type": "code",
   "execution_count": 23,
   "metadata": {},
   "outputs": [
    {
     "name": "stdout",
     "output_type": "stream",
     "text": [
      "iNeuronXXXXXXXXXXXXX\n",
      "XXXXXXXXXXXXXiNeuron\n",
      "XXXXXXiNeuronXXXXXXX\n"
     ]
    }
   ],
   "source": [
    "str=\"iNeuron\"\n",
    "print(str.ljust(20,\"X\"))\n",
    "print(str.rjust(20,\"X\"))\n",
    "print(str.center(20,\"X\"))"
   ]
  },
  {
   "cell_type": "markdown",
   "metadata": {},
   "source": [
    "#### 10. What is the best way to remove whitespace characters from the start or end ?\n",
    "The lstrip() and rstrip() methods remove whitesapce characters from the left and right ends of a string respectively."
   ]
  },
  {
   "cell_type": "code",
   "execution_count": 24,
   "metadata": {},
   "outputs": [
    {
     "name": "stdout",
     "output_type": "stream",
     "text": [
      "iNeuronXXX\n",
      "XXXXXiNeuron\n",
      "iNeuron\n"
     ]
    }
   ],
   "source": [
    "str = \"XXXXXiNeuronXXX\"\n",
    "print ( str.lstrip(\"X\"))\n",
    "print ( str.rstrip(\"X\"))\n",
    "print ( str.strip(\"X\"))"
   ]
  }
 ],
 "metadata": {
  "interpreter": {
   "hash": "fa18ddf63757025e07142b155e3a09ea3e18333fb57aa92d1d991cecda9d12ca"
  },
  "kernelspec": {
   "display_name": "Python 3.10.4 64-bit",
   "language": "python",
   "name": "python3"
  },
  "language_info": {
   "codemirror_mode": {
    "name": "ipython",
    "version": 3
   },
   "file_extension": ".py",
   "mimetype": "text/x-python",
   "name": "python",
   "nbconvert_exporter": "python",
   "pygments_lexer": "ipython3",
   "version": "3.10.4"
  },
  "orig_nbformat": 4
 },
 "nbformat": 4,
 "nbformat_minor": 2
}
