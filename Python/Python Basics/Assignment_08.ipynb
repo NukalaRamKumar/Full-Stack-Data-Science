{
 "cells": [
  {
   "cell_type": "markdown",
   "metadata": {},
   "source": [
    "## Python Assignment 8\n",
    "---"
   ]
  },
  {
   "cell_type": "markdown",
   "metadata": {},
   "source": [
    "#### 1. Is the Python Standard Library included with PyInputPlus?\n",
    "```No,``` PyInputPlus is not a part of Python Standard Library, We need to install it using the command ```!pip install PyInputPlus```."
   ]
  },
  {
   "cell_type": "markdown",
   "metadata": {},
   "source": [
    "#### 2. Why is PyInputPlus commonly imported with import pyinputplus as pypi?\n",
    "```import pyinputplus as pypi``` can be used to import pyinputplus as pypi."
   ]
  },
  {
   "cell_type": "markdown",
   "metadata": {},
   "source": [
    "#### 3. How do you distinguish between inputInt() and inputFloat()?\n",
    "___inputInt()___ function Accepts an integer value. This also takes additional parameters min, max, greaterThan and lessThan for bounds. And it always returns an int.<br>\n",
    "___inputFloat()___ function Accepts a floating-point numeric value. this also takes additional min, max, greaterThan and lessThan parameters. and always returns a float."
   ]
  },
  {
   "cell_type": "markdown",
   "metadata": {},
   "source": [
    "#### 4. Using PyInputPlus, how do you ensure that the user enters a whole number between 0 and 99?\n",
    "__inputInt()__  can be used from __PyInputPlus__ lilbrary which only returns only integer values. inorder to restrict the input between 0 and 99, we use parameters like min & max to ensure that user enters the values between the defined range only."
   ]
  },
  {
   "cell_type": "code",
   "execution_count": 12,
   "metadata": {},
   "outputs": [
    {
     "name": "stdout",
     "output_type": "stream",
     "text": [
      "Number must be at maximum 99.\n",
      "10\n"
     ]
    }
   ],
   "source": [
    "import pyinputplus as pypi\n",
    "n = pypi.inputInt(min=0, max=99) \n",
    "print(n)"
   ]
  },
  {
   "cell_type": "markdown",
   "metadata": {},
   "source": [
    "#### 5. What is transferred to the keyword arguments allowRegexes and blockRegexes?\n",
    "We can use allowRegexes and blockRegexes keyword arguments to take list of regular expression strings to determine what the pyinputplus function will reject or accept valid input."
   ]
  },
  {
   "cell_type": "markdown",
   "metadata": {},
   "source": [
    "#### 6. If a blank input is entered three times, what does inputStr(limit=3) do?\n",
    "The statement inputStr(limit=3) will throw two exceptions ValidationException and RetryLimitException. The first exception is thrown because blank values are not allowed by inputStr() function by default. it we want to consider blank values as valid input, we have to set __blank=True__.<br>\n",
    "\n",
    "The second exception is occured because we have reached the max limit we have specified by using _limit_ parameter. Inorder to avoid this exception we can use default parameter to return a _default_ value when max limit is reached."
   ]
  },
  {
   "cell_type": "markdown",
   "metadata": {},
   "source": [
    "#### 7. If blank input is entered three times, what does inputStr(limit=3, default='hello') do?\n",
    "Since the default parameter is set to __hello__. After blank input is entered three times instead of raising RetryLimitException exception. the function will return hello as response to the calling function."
   ]
  }
 ],
 "metadata": {
  "interpreter": {
   "hash": "fa18ddf63757025e07142b155e3a09ea3e18333fb57aa92d1d991cecda9d12ca"
  },
  "kernelspec": {
   "display_name": "Python 3.10.4 64-bit",
   "language": "python",
   "name": "python3"
  },
  "language_info": {
   "codemirror_mode": {
    "name": "ipython",
    "version": 3
   },
   "file_extension": ".py",
   "mimetype": "text/x-python",
   "name": "python",
   "nbconvert_exporter": "python",
   "pygments_lexer": "ipython3",
   "version": "3.10.4"
  },
  "orig_nbformat": 4
 },
 "nbformat": 4,
 "nbformat_minor": 2
}
