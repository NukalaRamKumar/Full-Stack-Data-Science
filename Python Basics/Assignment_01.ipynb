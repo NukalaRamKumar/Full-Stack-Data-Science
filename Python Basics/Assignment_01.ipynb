{
 "cells": [
  {
   "cell_type": "markdown",
   "metadata": {},
   "source": [
    "## Python Assignment 1"
   ]
  },
  {
   "cell_type": "markdown",
   "metadata": {},
   "source": [
    "#### 1. In the below elements which of them are values or an expression? eg:- values can be integer or string and expressions will be mathematical operators."
   ]
  },
  {
   "cell_type": "markdown",
   "metadata": {},
   "source": [
    "Input|Output\n",
    ":-----:|:------:\n",
    "\\*          | Expression\n",
    "'hello'     | Value\n",
    "-87.8       | Value\n",
    "\\-          | Expression\n",
    "/           | Expression\n",
    "\\+          | Expression\n",
    "6           | Value"
   ]
  },
  {
   "cell_type": "markdown",
   "metadata": {},
   "source": [
    "#### 2. What is the difference between string and variable?"
   ]
  },
  {
   "cell_type": "markdown",
   "metadata": {},
   "source": [
    "**String** &emsp;&nbsp;: String is a sequence of characters like names, text etc.<br>\n",
    "**Variable** &nbsp;: Variable is something which contains/stores some quantity of basic data type.\n"
   ]
  },
  {
   "cell_type": "markdown",
   "metadata": {},
   "source": [
    "#### 3. Describe three different data types."
   ]
  },
  {
   "cell_type": "markdown",
   "metadata": {},
   "source": [
    "**Integer** : Interger is a numerical value like integer number etc.<br>\n",
    "**String**&ensp;&nbsp;: String is a sequence of characters like names, text etc.<br>\n",
    "**List**&emsp;&emsp;: List is a collection which stores multiple types of data  in a single variable.<br>"
   ]
  },
  {
   "cell_type": "code",
   "execution_count": 42,
   "metadata": {},
   "outputs": [
    {
     "name": "stdout",
     "output_type": "stream",
     "text": [
      "<class 'int'>\n",
      "<class 'str'>\n",
      "<class 'list'>\n"
     ]
    }
   ],
   "source": [
    "a=10\n",
    "b=\"Hi There...!\"\n",
    "c=[10,\"Hi There...!\"]\n",
    "print(type(a))\n",
    "print(type(b))\n",
    "print(type(c))"
   ]
  },
  {
   "cell_type": "markdown",
   "metadata": {},
   "source": [
    "#### 4. What is an expression made up of? What do all expressions do?"
   ]
  },
  {
   "cell_type": "markdown",
   "metadata": {},
   "source": [
    "An expression is a combination of values, variables, operators, and function calls. Expressions need to be evaluated by interpreter.<br>\n",
    "**Example:**"
   ]
  },
  {
   "cell_type": "code",
   "execution_count": 43,
   "metadata": {},
   "outputs": [
    {
     "data": {
      "text/plain": [
       "19.0"
      ]
     },
     "execution_count": 43,
     "metadata": {},
     "output_type": "execute_result"
    }
   ],
   "source": [
    "15/3*4-1"
   ]
  },
  {
   "cell_type": "markdown",
   "metadata": {},
   "source": [
    "#### 5. This assignment statements, like spam = 10. What is the difference between an expression and a statement?"
   ]
  },
  {
   "cell_type": "markdown",
   "metadata": {},
   "source": [
    "An expression is a combination of values, variables, operators, and function calls. Expressions need to be evaluated by interpreter. Expression doesn't contain a keyword.<br>\n",
    "**Example:** 15/3*4-1<br>\n",
    "Where as Statement is the instruction that a python interpreter can execute.<br>\n",
    "**Example:** a=5, if, for, while etc."
   ]
  },
  {
   "cell_type": "code",
   "execution_count": 44,
   "metadata": {},
   "outputs": [
    {
     "name": "stdout",
     "output_type": "stream",
     "text": [
      "5\n"
     ]
    }
   ],
   "source": [
    "15/3*4-1    #Expression\n",
    "a=5         #Statement\n",
    "print(a)    #Statement"
   ]
  },
  {
   "cell_type": "markdown",
   "metadata": {},
   "source": [
    "#### 6. After running the following code, what does the variable bacon contain?\n",
    "``bacon = 22``<br>\n",
    "``bacon + 1``"
   ]
  },
  {
   "cell_type": "markdown",
   "metadata": {},
   "source": [
    "Answer will be **22** as the second exrpession is not assigned to the variable the value of variable will not update."
   ]
  },
  {
   "cell_type": "code",
   "execution_count": 45,
   "metadata": {},
   "outputs": [
    {
     "name": "stdout",
     "output_type": "stream",
     "text": [
      "22\n"
     ]
    }
   ],
   "source": [
    "bacon=22\n",
    "bacon+1\n",
    "print(bacon)"
   ]
  },
  {
   "cell_type": "markdown",
   "metadata": {},
   "source": [
    "#### 7. What should the values of the following two terms be?\n",
    "\n",
    "'spam' +'spamspam'<br>\n",
    "'spam' * 3\n"
   ]
  },
  {
   "cell_type": "markdown",
   "metadata": {},
   "source": [
    "Both will print the value ```spamspamspam```."
   ]
  },
  {
   "cell_type": "code",
   "execution_count": 46,
   "metadata": {},
   "outputs": [
    {
     "name": "stdout",
     "output_type": "stream",
     "text": [
      "spamspamspam\n",
      "spamspamspam\n"
     ]
    }
   ],
   "source": [
    "print('spam' +'spamspam')\n",
    "print('spam' * 3)"
   ]
  },
  {
   "cell_type": "markdown",
   "metadata": {},
   "source": [
    "#### 8. Why is eggs a valid variable name while 100 is invalid?\n",
    "<br>\n",
    "The variable naming rules for python are:\n",
    "\n",
    "- Variable name must start with a letter or the underscore character.\n",
    "- Variable name cannot start with a number."
   ]
  },
  {
   "cell_type": "markdown",
   "metadata": {},
   "source": [
    "#### 9. What three functions can be used to get the integer, floating-point number, or string version of a value?<br>\n",
    "The three function which will get the integer, floating-pointer and string version of a value are ```int()```,```float()``` and ```str()```."
   ]
  },
  {
   "cell_type": "code",
   "execution_count": 47,
   "metadata": {},
   "outputs": [
    {
     "name": "stdout",
     "output_type": "stream",
     "text": [
      "int(a):   10 \t\tType of int(a):    <class 'int'>\n",
      "float(a): 10.51 \tType of float(a):  <class 'float'>\n",
      "str(a):   10.51 \tType of str(a):  <class 'str'>\n"
     ]
    }
   ],
   "source": [
    "a=10.51\n",
    "print(\"int(a):  \",int(a),\"\\t\\tType of int(a):   \",type(int(a)))\n",
    "print(\"float(a):\",float(a),\"\\tType of float(a): \",type(float(a)))\n",
    "print(\"str(a):  \",str(a),\"\\tType of str(a): \",type(str(a)))"
   ]
  },
  {
   "cell_type": "markdown",
   "metadata": {},
   "source": [
    "#### 10. Why does this expression cause an error? How can you fix it?<br>\n",
    "'I have eaten '+ 99 + ' burritos.'\n",
    "<br><br>\n",
    "The string concatination will be only with string data types. So we need to convert the ```99``` which is an ```interger``` to ```string``` using ```str()``` or ```''```.<br>\n",
    "**Example**:<br>\n",
    "```'I have eaten '+ str(99) + ' burritos.'```<br>\n",
    "```'I have eaten '+ '99' + ' burritos.'```"
   ]
  },
  {
   "cell_type": "code",
   "execution_count": 48,
   "metadata": {},
   "outputs": [
    {
     "name": "stdout",
     "output_type": "stream",
     "text": [
      "I have eaten 99 burritos.\n",
      "I have eaten 99 burritos.\n"
     ]
    }
   ],
   "source": [
    "print('I have eaten '+ str(99) + ' burritos.')\n",
    "print('I have eaten '+ '99' + ' burritos.')"
   ]
  }
 ],
 "metadata": {
  "interpreter": {
   "hash": "fa18ddf63757025e07142b155e3a09ea3e18333fb57aa92d1d991cecda9d12ca"
  },
  "kernelspec": {
   "display_name": "Python 3.10.4 64-bit",
   "language": "python",
   "name": "python3"
  },
  "language_info": {
   "codemirror_mode": {
    "name": "ipython",
    "version": 3
   },
   "file_extension": ".py",
   "mimetype": "text/x-python",
   "name": "python",
   "nbconvert_exporter": "python",
   "pygments_lexer": "ipython3",
   "version": "3.10.4"
  },
  "orig_nbformat": 4
 },
 "nbformat": 4,
 "nbformat_minor": 2
}
